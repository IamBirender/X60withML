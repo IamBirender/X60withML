{
 "cells": [
  {
   "cell_type": "markdown",
   "metadata": {},
   "source": [
    "The SNR prediction is a time series and want to predict the value for the next step (or steps). \n",
    "\n",
    "<ol>There are two ways to do this\n",
    "<li>Train a model for each series \n",
    "<li>Fit a model for all the series together? Which is better?\n",
    "</ol>\n",
    "\n",
    "This problem can be solved by creating a single model for each product. Although this is one of the possible solutions, it's not likely to be the best.\n",
    "\n",
    "Here I will demonstrate how to train a single model to predict multiple time series at the same time. This technique usually creates powerful models that help teams win machine learning competitions and can be used in your project.\n",
    "\n",
    "# Individual Models vs Big Model for Everything\n",
    "In machine learning, more data usually means better predictions. If you try to create one model for each series, you will have some trouble with series that have little to no data. When you concatenate all your series into a single dataset, to train a single model, you are using a lot more data. This may help the model perform better!\n",
    "\n",
    "Considering more than one series at a time, the model will be able to learn more subtle patterns that repeat across series. The product becomes a variable in our model.\n",
    "\n",
    "First, let's import our basic tools:\n"
   ]
  },
  {
   "cell_type": "code",
   "execution_count": 111,
   "metadata": {},
   "outputs": [],
   "source": [
    "# All imports\n",
    "import os\n",
    "import re\n",
    "import numpy as np\n",
    "np.set_printoptions(suppress=True)\n",
    "from statistics import mean\n",
    "import matplotlib.pyplot as plt\n",
    "import seaborn as sns\n",
    "import pandas as pd\n",
    "from sklearn.metrics import mean_squared_error\n",
    "from sklearn.ensemble import RandomForestRegressor\n",
    "%matplotlib inline\n",
    "import pickle\n",
    "\n"
   ]
  },
  {
   "cell_type": "markdown",
   "metadata": {},
   "source": [
    "## Preparing the Data\n",
    "The data was obtained from the X60 Testbed.\n",
    "\n",
    "Here we will try to forecast sales for 625 beams. Our dataset has records of SNR for 67 positions for each of the beam.\n",
    "\n",
    "This means we have, originally, 625 time series with 67 data points each. Here I take only the beam_value and normalized SNR value for each position.\n",
    "\n",
    "This is what the data looks like:"
   ]
  },
  {
   "cell_type": "code",
   "execution_count": 45,
   "metadata": {},
   "outputs": [],
   "source": [
    "path = \"../Lateral/\"\n",
    "workfile = \"/workfile\"\n",
    "filenames = os.listdir(path)\n",
    "\n",
    "p_files = {}\n",
    "n_files = {}\n",
    "pos = 0\n",
    "\n",
    "regex = r\"\\[(.*?)\\]\"\n",
    "\n",
    "def data_parser(path, num, axis):\n",
    "    data = np.zeros((25,25))\n",
    "    with open(path, \"r\") as file:\n",
    "        for i in range(25):\n",
    "            for j in range(25):\n",
    "                line = file.readline().strip()\n",
    "                match = round(mean([float(num) for num in re.findall(regex, line).pop().split(\",\")]),2)\n",
    "                data[i,j] = match\n",
    "        if axis == \"n\":\n",
    "            n_files[pos] = data\n",
    "        else:\n",
    "            p_files[pos] = data\n",
    "\n",
    "for filename in filenames:\n",
    "    if re.search(\"-\", filename):\n",
    "        pos = int(re.findall(r'\\d+', filename).pop())\n",
    "        data_parser(path+filename+workfile,pos,\"n\")\n",
    "    else:\n",
    "        try:\n",
    "            pos = int(re.findall(r'\\d+', filename).pop())\n",
    "        except:\n",
    "            print(re.findall(r'\\d+', filename))\n",
    "        data_parser(path+filename+workfile,pos,\"p\")\n"
   ]
  },
  {
   "cell_type": "code",
   "execution_count": 14,
   "metadata": {},
   "outputs": [
    {
     "data": {
      "image/png": "[encoded data removed]",
      "text/plain": [
       "<Figure size 432x288 with 2 Axes>"
      ]
     },
     "metadata": {},
     "output_type": "display_data"
    }
   ],
   "source": [
    "ax = sns.heatmap(p_files[3])"
   ]
  },
  {
   "cell_type": "markdown",
   "metadata": {},
   "source": [
    "42500 rows × 3 columns\n",
    "\n",
    "At this point, many data scientists would try to fit a model for each position. And while this can work well, we may have problems due to having only 68 data points for each model, which is really low!\n",
    "\n",
    "As machine learning models tend to improve with more data, why not try to concatenate all the series and train a single model with much more data?\n",
    "\n",
    "To make our lives easier, I decided to remove the letters from the beam names and position."
   ]
  },
  {
   "cell_type": "code",
   "execution_count": 50,
   "metadata": {},
   "outputs": [
    {
     "data": {
      "text/html": [
       "<div>\n",
       "<style scoped>\n",
       "    .dataframe tbody tr th:only-of-type {\n",
       "        vertical-align: middle;\n",
       "    }\n",
       "\n",
       "    .dataframe tbody tr th {\n",
       "        vertical-align: top;\n",
       "    }\n",
       "\n",
       "    .dataframe thead th {\n",
       "        text-align: right;\n",
       "    }\n",
       "</style>\n",
       "<table border=\"1\" class=\"dataframe\">\n",
       "  <thead>\n",
       "    <tr style=\"text-align: right;\">\n",
       "      <th></th>\n",
       "      <th>beam</th>\n",
       "      <th>position</th>\n",
       "      <th>SNR</th>\n",
       "    </tr>\n",
       "  </thead>\n",
       "  <tbody>\n",
       "    <tr>\n",
       "      <th>0</th>\n",
       "      <td>0.0</td>\n",
       "      <td>0.0</td>\n",
       "      <td>-0.48</td>\n",
       "    </tr>\n",
       "    <tr>\n",
       "      <th>1</th>\n",
       "      <td>1.0</td>\n",
       "      <td>0.0</td>\n",
       "      <td>-0.18</td>\n",
       "    </tr>\n",
       "    <tr>\n",
       "      <th>2</th>\n",
       "      <td>2.0</td>\n",
       "      <td>0.0</td>\n",
       "      <td>0.35</td>\n",
       "    </tr>\n",
       "    <tr>\n",
       "      <th>3</th>\n",
       "      <td>3.0</td>\n",
       "      <td>0.0</td>\n",
       "      <td>0.71</td>\n",
       "    </tr>\n",
       "    <tr>\n",
       "      <th>4</th>\n",
       "      <td>4.0</td>\n",
       "      <td>0.0</td>\n",
       "      <td>-0.84</td>\n",
       "    </tr>\n",
       "  </tbody>\n",
       "</table>\n",
       "</div>"
      ],
      "text/plain": [
       "   beam  position   SNR\n",
       "0   0.0       0.0 -0.48\n",
       "1   1.0       0.0 -0.18\n",
       "2   2.0       0.0  0.35\n",
       "3   3.0       0.0  0.71\n",
       "4   4.0       0.0 -0.84"
      ]
     },
     "execution_count": 50,
     "metadata": {},
     "output_type": "execute_result"
    }
   ],
   "source": [
    "col = [\"beam\",\"position\",\"SNR\"]\n",
    "pos_dir = pd.DataFrame(columns = col)\n",
    "for key in sorted(n_files.keys(), reverse = True):\n",
    "    for i in range(25):\n",
    "        for j in range(25):\n",
    "            pos_dir = pos_dir.append({'beam': 25*i+j, 'position':35-key, \"SNR\":n_files[key][i][j]}, ignore_index=True)\n",
    "for key in sorted(p_files.keys()):\n",
    "    for i in range(25):\n",
    "        for j in range(25):\n",
    "            pos_dir = pos_dir.append({'beam': 25*i+j, 'position':35+key, \"SNR\":p_files[key][i][j]}, ignore_index=True)\n",
    "pos_dir.to_csv(\"Positive_x_directionMotion.csv\")\n",
    "pos_dir.head()"
   ]
  },
  {
   "cell_type": "code",
   "execution_count": 135,
   "metadata": {},
   "outputs": [
    {
     "data": {
      "text/html": [
       "<div>\n",
       "<style scoped>\n",
       "    .dataframe tbody tr th:only-of-type {\n",
       "        vertical-align: middle;\n",
       "    }\n",
       "\n",
       "    .dataframe tbody tr th {\n",
       "        vertical-align: top;\n",
       "    }\n",
       "\n",
       "    .dataframe thead th {\n",
       "        text-align: right;\n",
       "    }\n",
       "</style>\n",
       "<table border=\"1\" class=\"dataframe\">\n",
       "  <thead>\n",
       "    <tr style=\"text-align: right;\">\n",
       "      <th></th>\n",
       "      <th>beam</th>\n",
       "      <th>position</th>\n",
       "      <th>SNR</th>\n",
       "    </tr>\n",
       "  </thead>\n",
       "  <tbody>\n",
       "    <tr>\n",
       "      <th>0</th>\n",
       "      <td>0.0</td>\n",
       "      <td>0.0</td>\n",
       "      <td>-6.97</td>\n",
       "    </tr>\n",
       "    <tr>\n",
       "      <th>1</th>\n",
       "      <td>1.0</td>\n",
       "      <td>0.0</td>\n",
       "      <td>-9.33</td>\n",
       "    </tr>\n",
       "    <tr>\n",
       "      <th>2</th>\n",
       "      <td>2.0</td>\n",
       "      <td>0.0</td>\n",
       "      <td>-5.87</td>\n",
       "    </tr>\n",
       "    <tr>\n",
       "      <th>3</th>\n",
       "      <td>3.0</td>\n",
       "      <td>0.0</td>\n",
       "      <td>-8.68</td>\n",
       "    </tr>\n",
       "    <tr>\n",
       "      <th>4</th>\n",
       "      <td>4.0</td>\n",
       "      <td>0.0</td>\n",
       "      <td>-7.32</td>\n",
       "    </tr>\n",
       "  </tbody>\n",
       "</table>\n",
       "</div>"
      ],
      "text/plain": [
       "   beam  position   SNR\n",
       "0   0.0       0.0 -6.97\n",
       "1   1.0       0.0 -9.33\n",
       "2   2.0       0.0 -5.87\n",
       "3   3.0       0.0 -8.68\n",
       "4   4.0       0.0 -7.32"
      ]
     },
     "execution_count": 135,
     "metadata": {},
     "output_type": "execute_result"
    }
   ],
   "source": [
    "col = [\"beam\",\"position\",\"SNR\"]\n",
    "neg_dir = pd.DataFrame(columns = col)\n",
    "for key in sorted(p_files.keys(), reverse = True):\n",
    "    for i in range(25):\n",
    "        for j in range(25):\n",
    "            neg_dir = neg_dir.append({'beam': 25*i+j, 'position':32-key, \"SNR\":p_files[key][i][j]}, ignore_index=True)\n",
    "for key in sorted(n_files.keys()):\n",
    "    for i in range(25):\n",
    "        for j in range(25):\n",
    "            neg_dir = neg_dir.append({'beam': 25*i+j, 'position':32+key, \"SNR\":n_files[key][i][j]}, ignore_index=True)\n",
    "neg_dir.to_csv(\"Negative_x_directionMotion.csv\")\n",
    "neg_dir.head()"
   ]
  },
  {
   "cell_type": "markdown",
   "metadata": {},
   "source": [
    "## Basic Feature Engineering\n",
    "We need to have variables to send to our model and get the predictions. For now, besides the beam and the position, I will create two features that usually help a lot with time series: lags and differences.\n",
    "\n",
    "Last Position SNRs: this is simply the value of SNR that a beam had in the previous position\n",
    "Last Position Diff: the difference between the amount of SNR value in the previous Position and the position before it (pos-1 - pos-2)"
   ]
  },
  {
   "cell_type": "code",
   "execution_count": 136,
   "metadata": {},
   "outputs": [
    {
     "data": {
      "text/html": [
       "<div>\n",
       "<style scoped>\n",
       "    .dataframe tbody tr th:only-of-type {\n",
       "        vertical-align: middle;\n",
       "    }\n",
       "\n",
       "    .dataframe tbody tr th {\n",
       "        vertical-align: top;\n",
       "    }\n",
       "\n",
       "    .dataframe thead th {\n",
       "        text-align: right;\n",
       "    }\n",
       "</style>\n",
       "<table border=\"1\" class=\"dataframe\">\n",
       "  <thead>\n",
       "    <tr style=\"text-align: right;\">\n",
       "      <th></th>\n",
       "      <th>beam</th>\n",
       "      <th>position</th>\n",
       "      <th>SNR</th>\n",
       "      <th>last_SNR</th>\n",
       "      <th>Last_SNR_Diff</th>\n",
       "    </tr>\n",
       "  </thead>\n",
       "  <tbody>\n",
       "    <tr>\n",
       "      <th>1250</th>\n",
       "      <td>0.0</td>\n",
       "      <td>2.0</td>\n",
       "      <td>0.05</td>\n",
       "      <td>0.06</td>\n",
       "      <td>0.54</td>\n",
       "    </tr>\n",
       "    <tr>\n",
       "      <th>1251</th>\n",
       "      <td>1.0</td>\n",
       "      <td>2.0</td>\n",
       "      <td>0.41</td>\n",
       "      <td>-0.16</td>\n",
       "      <td>0.02</td>\n",
       "    </tr>\n",
       "    <tr>\n",
       "      <th>1252</th>\n",
       "      <td>2.0</td>\n",
       "      <td>2.0</td>\n",
       "      <td>1.90</td>\n",
       "      <td>-0.06</td>\n",
       "      <td>-0.41</td>\n",
       "    </tr>\n",
       "    <tr>\n",
       "      <th>1253</th>\n",
       "      <td>3.0</td>\n",
       "      <td>2.0</td>\n",
       "      <td>1.75</td>\n",
       "      <td>0.71</td>\n",
       "      <td>0.00</td>\n",
       "    </tr>\n",
       "    <tr>\n",
       "      <th>1254</th>\n",
       "      <td>4.0</td>\n",
       "      <td>2.0</td>\n",
       "      <td>0.66</td>\n",
       "      <td>-0.96</td>\n",
       "      <td>-0.12</td>\n",
       "    </tr>\n",
       "  </tbody>\n",
       "</table>\n",
       "</div>"
      ],
      "text/plain": [
       "      beam  position   SNR  last_SNR  Last_SNR_Diff\n",
       "1250   0.0       2.0  0.05      0.06           0.54\n",
       "1251   1.0       2.0  0.41     -0.16           0.02\n",
       "1252   2.0       2.0  1.90     -0.06          -0.41\n",
       "1253   3.0       2.0  1.75      0.71           0.00\n",
       "1254   4.0       2.0  0.66     -0.96          -0.12"
      ]
     },
     "execution_count": 136,
     "metadata": {},
     "output_type": "execute_result"
    }
   ],
   "source": [
    "melt2 = pos_dir.copy()\n",
    "melt2['last_SNR'] = melt2.groupby(['beam'])['SNR'].shift()\n",
    "melt2['Last_SNR_Diff'] = melt2.groupby(['beam'])['last_SNR'].diff()\n",
    "melt2 = melt2.dropna()\n",
    "melt2.head()"
   ]
  },
  {
   "cell_type": "code",
   "execution_count": 137,
   "metadata": {},
   "outputs": [
    {
     "data": {
      "text/html": [
       "<div>\n",
       "<style scoped>\n",
       "    .dataframe tbody tr th:only-of-type {\n",
       "        vertical-align: middle;\n",
       "    }\n",
       "\n",
       "    .dataframe tbody tr th {\n",
       "        vertical-align: top;\n",
       "    }\n",
       "\n",
       "    .dataframe thead th {\n",
       "        text-align: right;\n",
       "    }\n",
       "</style>\n",
       "<table border=\"1\" class=\"dataframe\">\n",
       "  <thead>\n",
       "    <tr style=\"text-align: right;\">\n",
       "      <th></th>\n",
       "      <th>beam</th>\n",
       "      <th>position</th>\n",
       "      <th>SNR</th>\n",
       "      <th>last_SNR</th>\n",
       "      <th>Last_SNR_Diff</th>\n",
       "    </tr>\n",
       "  </thead>\n",
       "  <tbody>\n",
       "    <tr>\n",
       "      <th>1250</th>\n",
       "      <td>0.0</td>\n",
       "      <td>2.0</td>\n",
       "      <td>-3.50</td>\n",
       "      <td>-4.25</td>\n",
       "      <td>2.72</td>\n",
       "    </tr>\n",
       "    <tr>\n",
       "      <th>1251</th>\n",
       "      <td>1.0</td>\n",
       "      <td>2.0</td>\n",
       "      <td>-3.21</td>\n",
       "      <td>-4.77</td>\n",
       "      <td>4.56</td>\n",
       "    </tr>\n",
       "    <tr>\n",
       "      <th>1252</th>\n",
       "      <td>2.0</td>\n",
       "      <td>2.0</td>\n",
       "      <td>-5.24</td>\n",
       "      <td>-5.27</td>\n",
       "      <td>0.60</td>\n",
       "    </tr>\n",
       "    <tr>\n",
       "      <th>1253</th>\n",
       "      <td>3.0</td>\n",
       "      <td>2.0</td>\n",
       "      <td>-5.99</td>\n",
       "      <td>-5.63</td>\n",
       "      <td>3.05</td>\n",
       "    </tr>\n",
       "    <tr>\n",
       "      <th>1254</th>\n",
       "      <td>4.0</td>\n",
       "      <td>2.0</td>\n",
       "      <td>-5.77</td>\n",
       "      <td>-5.70</td>\n",
       "      <td>1.62</td>\n",
       "    </tr>\n",
       "  </tbody>\n",
       "</table>\n",
       "</div>"
      ],
      "text/plain": [
       "      beam  position   SNR  last_SNR  Last_SNR_Diff\n",
       "1250   0.0       2.0 -3.50     -4.25           2.72\n",
       "1251   1.0       2.0 -3.21     -4.77           4.56\n",
       "1252   2.0       2.0 -5.24     -5.27           0.60\n",
       "1253   3.0       2.0 -5.99     -5.63           3.05\n",
       "1254   4.0       2.0 -5.77     -5.70           1.62"
      ]
     },
     "execution_count": 137,
     "metadata": {},
     "output_type": "execute_result"
    }
   ],
   "source": [
    "nmelt2 = neg_dir.copy()\n",
    "nmelt2['last_SNR'] = nmelt2.groupby(['beam'])['SNR'].shift()\n",
    "nmelt2['Last_SNR_Diff'] = nmelt2.groupby(['beam'])['last_SNR'].diff()\n",
    "nmelt2 = nmelt2.dropna()\n",
    "nmelt2.head()"
   ]
  },
  {
   "cell_type": "markdown",
   "metadata": {},
   "source": [
    "## Evaluating the Result\n",
    "\n",
    "To know if our model is good we need to have an evaluation metric. A metric I really like for time series forecasting is the Root Mean Squared Error.\n",
    "\n",
    "This is our well-known RMSE applied to the target and the prediction output.\n",
    "\n",
    "It works as an approximation to the percentage error between our predictions and the target, which is a nice way to understand the errors our model is making."
   ]
  },
  {
   "cell_type": "code",
   "execution_count": 138,
   "metadata": {},
   "outputs": [],
   "source": [
    "def rmsle(ytrue, ypred):\n",
    "    return np.sqrt(mean_squared_error(ytrue, ypred))"
   ]
  },
  {
   "cell_type": "markdown",
   "metadata": {},
   "source": [
    "# Setting a Baseline and a Validation Split\n",
    "\n",
    "Let's say that in real life your model will run every 2 seconds, so that early on 2 seconds the processor can make decisions based on the predictions for the next beam.\n",
    "\n",
    "To see if our model will work in this scenario, position it has not seen before, I will use a sliding window validation. This means that we are going to simulate training the model in all the positions up to the one we want to predict, and evaluate our score in the new position.\n",
    "\n",
    "And, to avoid having a very good model in a small amount of position simply due to luck, I will use every week from 45 to 68, repeating the process for one at a time, and compute the score.\n",
    "\n",
    "As this is only a demonstration of the method, to keep it simple I am not separating a test set. In your projects, always keep some periods out of your validation to evaluate your model when you finish developing it. **This is very important**, and helps you be more secure about your model performing well when deployed.\n",
    "\n",
    "To make sure the model is worth using I like to set a baseline score that it has to beat. In this case, a reasonably strong baseline is using the last position value of SNRs as a prediction for the SNR this location."
   ]
  },
  {
   "cell_type": "code",
   "execution_count": 139,
   "metadata": {},
   "outputs": [
    {
     "name": "stdout",
     "output_type": "stream",
     "text": [
      "Position 50 - Error 3.30580\n",
      "Position 51 - Error 3.14443\n",
      "Position 52 - Error 2.09586\n",
      "Position 53 - Error 1.73193\n",
      "Position 54 - Error 1.57264\n",
      "Position 55 - Error 1.10413\n",
      "Position 56 - Error 1.87308\n",
      "Position 57 - Error 1.86182\n",
      "Position 58 - Error 2.42727\n",
      "Position 59 - Error 1.91671\n",
      "Position 60 - Error 1.00620\n",
      "Position 61 - Error 1.66492\n",
      "Position 62 - Error 1.85033\n",
      "Position 63 - Error 2.08899\n",
      "Position 64 - Error 1.91763\n",
      "Position 65 - Error 1.83398\n",
      "Position 66 - Error 2.17259\n",
      "Mean Error = 1.97461\n"
     ]
    }
   ],
   "source": [
    "mean_error = []\n",
    "for pos in range(50,67):\n",
    "    train = melt2[melt2['position'] < pos]\n",
    "    val = melt2[melt2['position'] == pos]\n",
    "    \n",
    "    p = val['last_SNR'].values\n",
    "    \n",
    "    error = rmsle(val['SNR'].values, p)\n",
    "    print('Position %d - Error %.5f' % (pos, error))\n",
    "    mean_error.append(error)\n",
    "print('Mean Error = %.5f' % np.mean(mean_error))"
   ]
  },
  {
   "cell_type": "code",
   "execution_count": 140,
   "metadata": {},
   "outputs": [
    {
     "name": "stdout",
     "output_type": "stream",
     "text": [
      "Position 50 - Error 2.80436\n",
      "Position 51 - Error 1.53820\n",
      "Position 52 - Error 0.89366\n",
      "Position 53 - Error 2.01121\n",
      "Position 54 - Error 1.99545\n",
      "Position 55 - Error 1.07305\n",
      "Position 56 - Error 1.57265\n",
      "Position 57 - Error 1.59029\n",
      "Position 58 - Error 1.40740\n",
      "Position 59 - Error 1.45682\n",
      "Position 60 - Error 0.77727\n",
      "Position 61 - Error 0.93108\n",
      "Position 62 - Error 2.19375\n",
      "Position 63 - Error 2.43166\n",
      "Position 64 - Error 1.83700\n",
      "Position 65 - Error 1.67926\n",
      "Position 66 - Error 2.09748\n",
      "Mean Error = 1.66415\n"
     ]
    }
   ],
   "source": [
    "mean_error = []\n",
    "for pos in range(50,67):\n",
    "    train = nmelt2[nmelt2['position'] < pos]\n",
    "    val = nmelt2[nmelt2['position'] == pos]\n",
    "    \n",
    "    p = val['last_SNR'].values\n",
    "    \n",
    "    error = rmsle(val['SNR'].values, p)\n",
    "    print('Position %d - Error %.5f' % (pos, error))\n",
    "    mean_error.append(error)\n",
    "print('Mean Error = %.5f' % np.mean(mean_error))"
   ]
  },
  {
   "cell_type": "markdown",
   "metadata": {},
   "source": [
    "Now we know that our model has to have a better error than about XX. This would be approximately XX% error in each prediction, which seems huge! But is it really?\n",
    "\n",
    "If we look at the distribution of SNR in the dataset, we see that a lot of items SNR is very little amounts. So we should expect the error to look \"high\"."
   ]
  },
  {
   "cell_type": "code",
   "execution_count": 141,
   "metadata": {},
   "outputs": [
    {
     "data": {
      "text/plain": [
       "<matplotlib.axes._subplots.AxesSubplot at 0x1a24a0e978>"
      ]
     },
     "execution_count": 141,
     "metadata": {},
     "output_type": "execute_result"
    },
    {
     "data": {
      "image/png": "[encoded data removed]",
      "text/plain": [
       "<Figure size 720x360 with 1 Axes>"
      ]
     },
     "metadata": {},
     "output_type": "display_data"
    }
   ],
   "source": [
    "melt2['SNR'].hist(bins=20, figsize=(10,5))"
   ]
  },
  {
   "cell_type": "markdown",
   "metadata": {},
   "source": [
    "# Creating the Model\n",
    "Now that we have a baseline, let's try to beat it!\n",
    "\n",
    "As a first model, let's train a Random Forest. Besides being a strong model with structured data (like the one we have), we usually can already get a very good result by just setting a high number of trees.\n",
    "\n",
    "I usually prefer a Random Forest is a very good model to use in a lazy day. You only set the number of trees to the maximum your computer can run and get a good model (hopefully).\n",
    "\n",
    "I will keep the position as a feature although our model will have never seen the new position value. It may be that after position 45, for example, we have more SNRs for a beam. This type of effect can be captured by the model.\n",
    "\n",
    "As decision trees can handle categorical features well even in ordinal encoding, I left them in this format.\n",
    "\n"
   ]
  },
  {
   "cell_type": "code",
   "execution_count": 129,
   "metadata": {},
   "outputs": [
    {
     "name": "stdout",
     "output_type": "stream",
     "text": [
      "pos 20 - Error 1.91409\n",
      "Mean Error = 1.91409\n"
     ]
    }
   ],
   "source": [
    "mean_error = []\n",
    "pos_predicted = None\n",
    "pos_tested = None\n",
    "for pos in range():\n",
    "    train = melt2[melt2['position'] < pos]\n",
    "    val = melt2[melt2['position'] == pos]\n",
    "    \n",
    "    xtr, xts = train.drop(['SNR'], axis=1), val.drop(['SNR'], axis=1)\n",
    "    ytr, yts = train['SNR'].values, val['SNR'].values\n",
    "    \n",
    "    mdl = RandomForestRegressor(n_estimators=1000, n_jobs=-1, random_state=0)\n",
    "    mdl.fit(xtr, ytr)\n",
    "    filename = 'LeftToRight.sav'\n",
    "    pickle.dump(mdl, open(filename, 'wb'))\n",
    "     \n",
    "    p = mdl.predict(xts)\n",
    "    \n",
    "    pos_predicted = p\n",
    "    if pos == 19:\n",
    "        pos_tested = yts\n",
    "    \n",
    "    error = rmsle(yts, p)\n",
    "    print('pos %d - Error %.5f' % (pos, error))\n",
    "    mean_error.append(error)\n",
    "print('Mean Error = %.5f' % np.mean(mean_error))"
   ]
  },
  {
   "cell_type": "code",
   "execution_count": 130,
   "metadata": {},
   "outputs": [
    {
     "name": "stdout",
     "output_type": "stream",
     "text": [
      "pos 48 - Error 2.82334\n",
      "Mean Error = 2.82334\n"
     ]
    }
   ],
   "source": [
    "mean_error = []\n",
    "neg_predicted = None\n",
    "neg_tested = None\n",
    "\n",
    "for pos in range(48,49):\n",
    "    train = nmelt2[nmelt2['position'] != pos]\n",
    "    val = nmelt2[nmelt2['position'] == pos]\n",
    "    \n",
    "    xtr, xts = train.drop(['SNR'], axis=1), val.drop(['SNR'], axis=1)\n",
    "    ytr, yts = train['SNR'].values, val['SNR'].values\n",
    "    \n",
    "    mdl = RandomForestRegressor(n_estimators=1000, n_jobs=-1, random_state=0)\n",
    "    mdl.fit(xtr, ytr)\n",
    "    filename = 'RightToLeft.sav'\n",
    "    pickle.dump(mdl, open(filename, 'wb'))\n",
    "     \n",
    "    p = mdl.predict(xts)\n",
    "    \n",
    "    neg_predicted = p\n",
    "    if pos == 47:\n",
    "        neg_tested = yts\n",
    "    \n",
    "    error = rmsle(yts, p)\n",
    "    print('pos %d - Error %.5f' % (pos, error))\n",
    "    mean_error.append(error)\n",
    "print('Mean Error = %.5f' % np.mean(mean_error))"
   ]
  },
  {
   "cell_type": "code",
   "execution_count": null,
   "metadata": {},
   "outputs": [],
   "source": [
    "loaded_model = pickle.load(open(RightToLeft, 'rb'))\n",
    "result = loaded_model.predict(xtr, ytr)"
   ]
  },
  {
   "cell_type": "code",
   "execution_count": 132,
   "metadata": {},
   "outputs": [
    {
     "ename": "AttributeError",
     "evalue": "'NoneType' object has no attribute 'reshape'",
     "output_type": "error",
     "traceback": [
      "\u001b[0;31m---------------------------------------------------------------------------\u001b[0m",
      "\u001b[0;31mAttributeError\u001b[0m                            Traceback (most recent call last)",
      "\u001b[0;32m<ipython-input-132-79659ad8586d>\u001b[0m in \u001b[0;36m<module>\u001b[0;34m()\u001b[0m\n\u001b[0;32m----> 1\u001b[0;31m \u001b[0msns\u001b[0m\u001b[0;34m.\u001b[0m\u001b[0mheatmap\u001b[0m\u001b[0;34m(\u001b[0m\u001b[0mneg_tested\u001b[0m\u001b[0;34m.\u001b[0m\u001b[0mreshape\u001b[0m\u001b[0;34m(\u001b[0m\u001b[0;36m25\u001b[0m\u001b[0;34m,\u001b[0m\u001b[0;36m25\u001b[0m\u001b[0;34m)\u001b[0m\u001b[0;34m)\u001b[0m\u001b[0;34m\u001b[0m\u001b[0;34m\u001b[0m\u001b[0m\n\u001b[0m",
      "\u001b[0;31mAttributeError\u001b[0m: 'NoneType' object has no attribute 'reshape'"
     ]
    }
   ],
   "source": [
    "sns.heatmap(neg_tested.reshape(25,25))"
   ]
  },
  {
   "cell_type": "code",
   "execution_count": 133,
   "metadata": {},
   "outputs": [
    {
     "data": {
      "text/plain": [
       "<matplotlib.axes._subplots.AxesSubplot at 0x1a25abc4e0>"
      ]
     },
     "execution_count": 133,
     "metadata": {},
     "output_type": "execute_result"
    },
    {
     "data": {
      "image/png": "[encoded data removed]",
      "text/plain": [
       "<Figure size 432x288 with 2 Axes>"
      ]
     },
     "metadata": {},
     "output_type": "display_data"
    }
   ],
   "source": [
    "sns.heatmap(neg_predicted.reshape(25,25))"
   ]
  },
  {
   "cell_type": "code",
   "execution_count": 134,
   "metadata": {},
   "outputs": [
    {
     "data": {
      "text/plain": [
       "<matplotlib.axes._subplots.AxesSubplot at 0x1ad5a8b978>"
      ]
     },
     "execution_count": 134,
     "metadata": {},
     "output_type": "execute_result"
    },
    {
     "data": {
      "image/png": "[encoded data removed]",
      "text/plain": [
       "<Figure size 432x288 with 2 Axes>"
      ]
     },
     "metadata": {},
     "output_type": "display_data"
    }
   ],
   "source": [
    "sns.heatmap(pos_predicted.reshape(25,25))"
   ]
  },
  {
   "cell_type": "code",
   "execution_count": null,
   "metadata": {},
   "outputs": [],
   "source": []
  }
 ],
 "metadata": {
  "kernelspec": {
   "display_name": "Python (myenv)",
   "language": "python",
   "name": "myenv"
  },
  "language_info": {
   "codemirror_mode": {
    "name": "ipython",
    "version": 3
   },
   "file_extension": ".py",
   "mimetype": "text/x-python",
   "name": "python",
   "nbconvert_exporter": "python",
   "pygments_lexer": "ipython3",
   "version": "3.6.8"
  }
 },
 "nbformat": 4,
 "nbformat_minor": 4
}
